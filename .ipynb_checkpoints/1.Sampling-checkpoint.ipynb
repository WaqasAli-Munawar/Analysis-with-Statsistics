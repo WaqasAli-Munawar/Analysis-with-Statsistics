{
 "cells": [
  {
   "cell_type": "markdown",
   "metadata": {},
   "source": [
    "We learned to perform basic data analysis and data visualization and we learned about some fundamental statistical metrics like the **mean** or the **median**, and we plotted **histograms**, **bar graphs** or **line plots**.\n",
    "\n",
    "Now we'll build on that knowledge, and we'll learn how to do better data analysis. \n",
    "* First, we'll go much deeper into the theory behind what we've already learned. \n",
    "* Second, we'll learn new and more powerful statistical techniques and metrics like \n",
    "    * **standard deviation**, \n",
    "    * **z-scores**, \n",
    "    * **confidence intervals**, \n",
    "    * **probability estimation**, and \n",
    "    * **hypothesis testing (including A/B testing)**."
   ]
  },
  {
   "cell_type": "markdown",
   "metadata": {},
   "source": [
    "1. We begin with discussing the details around getting **data** for analysis, and \n",
    "2. Continue with trying to understand the intricacies around **how data is structured and measured**. \n",
    "3. We'll then move on with **learning techniques to organize and visualize** relatively **large amounts of data**, which will make the process of finding patterns considerably less difficult."
   ]
  },
  {
   "cell_type": "markdown",
   "metadata": {},
   "source": [
    "We'll learn throughout how to use a small set of data to answer questions about a much larger set of data."
   ]
  },
  {
   "cell_type": "markdown",
   "metadata": {},
   "source": [
    "In statistics, the set of all individuals relevant to a particular statistical question is called a **population**\n",
    "\n",
    "A smaller group selected from a population is called a **sample**. When we select a smaller group from a population we do **sampling**."
   ]
  },
  {
   "cell_type": "markdown",
   "metadata": {},
   "source": [
    "Whether a set of data is a **sample** or a **population** depends on the question we're trying to answer."
   ]
  },
  {
   "cell_type": "markdown",
   "metadata": {},
   "source": [
    "**Populations** do not necessarily consist of **people**. **Behavioral scientists**, for instance, often try to answer questions about **populations of monkeys**, **rats** or other lab animals. \n",
    "\n",
    "In a similar way, other people try to answer questions about \n",
    "* **countries**, \n",
    "* **companies**, \n",
    "* **vegetables**, \n",
    "* **soils**, \n",
    "* **pieces of equipment produced** in a factory, etc."
   ]
  },
  {
   "cell_type": "markdown",
   "metadata": {},
   "source": [
    "The individual elements of a population or a sample go under many names. Elements of a population referred to as \n",
    "* individuals, \n",
    "* units, \n",
    "* events, \n",
    "* observations\n",
    "\n",
    "These are all used interchangeably and refer to the same thing: the individual parts of a population.\n",
    "\n",
    "In the case of a sample, we'll often see this terminology used interchangeably: \n",
    "* sample unit, \n",
    "* sample point, \n",
    "* sample individual, or\n",
    "* sample observation"
   ]
  },
  {
   "cell_type": "markdown",
   "metadata": {},
   "source": [
    "For every statistical question we want to answer, we should try to use the population. In practice, that's not always possible because the populations of interest usually vary from large to extremely large. Also, getting data is generally not an easy task, so small populations often pose problems too.\n",
    "\n",
    "These problems can be solved by sampling from the population that interests us. Although not as good as working with the entire population, working with a sample is the next best thing we can do."
   ]
  },
  {
   "cell_type": "markdown",
   "metadata": {},
   "source": [
    "A **sample** is by definition an incomplete set of data for the question we're trying to answer. For this reason, there's almost always some difference between the **metrics (population units) a population** and **the metrics (sample units) of a sample**. \n",
    "\n",
    "This difference can be seen as an error, and because it's the result of sampling, it's called **sampling error**."
   ]
  },
  {
   "cell_type": "markdown",
   "metadata": {},
   "source": [
    "A **metric specific to a population** is called a **parameter**, while one specific to a **sample** is called a **statistics**."
   ]
  },
  {
   "cell_type": "markdown",
   "metadata": {},
   "source": [
    "Another way to think of the concept of the **sampling error is as the difference between a parameter and a statistic.**\n",
    "\n",
    "$$sampling error = parameter - statistic$$"
   ]
  },
  {
   "cell_type": "code",
   "execution_count": 1,
   "metadata": {},
   "outputs": [],
   "source": [
    "import pandas as pd\n",
    "import matplotlib.pyplot as plt\n",
    "wnba = pd.read_csv(\"wnba.csv\")"
   ]
  },
  {
   "cell_type": "markdown",
   "metadata": {},
   "source": [
    "The data set is about **basketball players in WNBA (Women's National Basketball Association)**, and contains general information about **players**, along **with their metrics** for the season 2016-2017. \n",
    "\n",
    "The data set was put together by **Thomas De Jonghe**, and can be downloaded from [Kaggle](https://www.kaggle.com/jinxbe/wnba-player-stats-2017), where we can also find useful documentation for the data set."
   ]
  },
  {
   "cell_type": "code",
   "execution_count": 2,
   "metadata": {},
   "outputs": [
    {
     "data": {
      "text/plain": [
       "32"
      ]
     },
     "execution_count": 2,
     "metadata": {},
     "output_type": "execute_result"
    }
   ],
   "source": [
    "parameter = wnba[\"Games Played\"].max()\n",
    "parameter"
   ]
  },
  {
   "cell_type": "code",
   "execution_count": 3,
   "metadata": {},
   "outputs": [
    {
     "data": {
      "text/plain": [
       "30"
      ]
     },
     "execution_count": 3,
     "metadata": {},
     "output_type": "execute_result"
    }
   ],
   "source": [
    "sample = wnba[\"Games Played\"].sample(n=30, random_state = 1)\n",
    "statistic = sample.max()\n",
    "statistic"
   ]
  },
  {
   "cell_type": "code",
   "execution_count": 4,
   "metadata": {},
   "outputs": [
    {
     "data": {
      "text/plain": [
       "2"
      ]
     },
     "execution_count": 4,
     "metadata": {},
     "output_type": "execute_result"
    }
   ],
   "source": [
    "sampling_error = parameter - statistic\n",
    "sampling_error"
   ]
  },
  {
   "cell_type": "markdown",
   "metadata": {},
   "source": [
    "When we sample we want to minimize the sampling error as much as possible. We want our sample to mirror the population as closely as possible.\n",
    "\n",
    "For this to happen, we need the individuals in our sample to form a group that is similar in structure with the group forming the population."
   ]
  },
  {
   "cell_type": "markdown",
   "metadata": {},
   "source": [
    "The US adult population is diverse, made of people of various heights. If we sampled 100 individuals from various basketball teams, then we'd almost certainly get a sample whose structure is significantly different than that of the population. As a consequence, we should expect a large sampling error"
   ]
  },
  {
   "cell_type": "markdown",
   "metadata": {},
   "source": [
    "In statistical terms, we want our samples to be representative of their corresponding populations. If a sample is representative, then the sampling error is low. The more representative a sample is, the smaller the sampling error and vice versa."
   ]
  },
  {
   "cell_type": "markdown",
   "metadata": {},
   "source": [
    "To make our samples representative, we can try to give every individual in the population an equal chance to be selected in our samples. We want a very tall individual to have the same chance as being selected as an individual having a medium or short height. To give every individual an equal chance of being picked, we need to sample randomly.\n",
    "\n",
    "One way to perform random sampling is to generate random numbers and use them to select a few sample units from the population. In statistics, this sampling method is called **simple random sampling**, and it's often abbreviated as **SRS**."
   ]
  },
  {
   "cell_type": "markdown",
   "metadata": {},
   "source": [
    "We use `Series.sample()` to sample. **This method performs simple random sampling** by generating an array of random numbers, and then using those numbers to select values from a Series at the indices corresponding to those random numbers. \n",
    "\n",
    "The method can be also extended for DataFrame objects, where random rows or columns can be sampled."
   ]
  },
  {
   "cell_type": "markdown",
   "metadata": {},
   "source": [
    "When we use the `random_state` parameter, we make the generation of random numbers predictable. It uses a **pseudorandom number generator** under the hood. \n",
    "\n",
    "A pseudorandom number generator uses an initial value to generate a sequence of numbers that has properties similar to those of a sequence that is truly random. With` random_state` we specify that initial value used by the pseudorandom number generator.\n",
    "\n",
    "If we want to generate a sequence of five numbers using a pseudorandom generator, and begin from an initial value of 1, we'll get the same five numbers no matter how many times we run the code. If we ran \n",
    "\n",
    "`wnba['Games Played'].sample(5, random_state = 1)`\n",
    "\n",
    "we'd get the same sample every time we run the code."
   ]
  },
  {
   "cell_type": "markdown",
   "metadata": {},
   "source": [
    "Pseudorandom number generators are of great use in scientific research where reproducible work is necessary."
   ]
  },
  {
   "cell_type": "code",
   "execution_count": 5,
   "metadata": {},
   "outputs": [
    {
     "data": {
      "text/plain": [
       "201.7902097902098"
      ]
     },
     "execution_count": 5,
     "metadata": {},
     "output_type": "execute_result"
    }
   ],
   "source": [
    "# mean of PTS column\n",
    "population_mean = wnba[\"PTS\"].mean()\n",
    "population_mean"
   ]
  },
  {
   "cell_type": "code",
   "execution_count": 6,
   "metadata": {},
   "outputs": [
    {
     "name": "stdout",
     "output_type": "stream",
     "text": [
      "[145.1, 185.4, 140.4, 293.7, 172.7, 124.9, 187.8, 157.0, 188.9, 282.0, 241.5, 178.1, 157.0, 301.4, 212.9, 115.0, 135.3, 197.2, 182.5, 236.8, 145.9, 255.9, 161.2, 184.1, 213.6, 139.7, 176.3, 148.5, 118.2, 166.8, 188.3, 140.9, 182.2, 178.9, 187.1, 174.4, 126.6, 204.5, 156.0, 152.1, 193.6, 232.4, 235.1, 181.6, 230.3, 182.2, 229.4, 225.6, 203.6, 177.1, 157.4, 140.8, 147.4, 176.1, 224.5, 220.5, 132.4, 175.8, 244.3, 160.1, 244.7, 294.3, 127.1, 209.3, 173.0, 159.9, 249.9, 145.3, 144.9, 186.1, 172.9, 248.9, 137.4, 137.3, 176.0, 286.7, 258.5, 138.5, 188.5, 135.5, 178.1, 185.3, 252.0, 242.5, 253.7, 183.6, 172.7, 170.3, 148.4, 174.0, 143.9, 275.3, 152.6, 215.6, 179.8, 200.2, 177.3, 213.2, 187.2, 153.1]\n"
     ]
    }
   ],
   "source": [
    "# Using simple random sampling, take 100 samples from our WNBA data set, \n",
    "# and for each sample measure the average points scored by a player during\n",
    "# the 2016-2017 season.\n",
    "# For each of the 100 iterations of a for loop:\n",
    "    # Sample 10 values from the PTS column.\n",
    "    # Compute the mean of this sample made of 10 values from the PTS column, \n",
    "#     and append the result to a list.\n",
    "\n",
    "sample_mean = []\n",
    "for i in range(100):\n",
    "    sample = wnba[\"PTS\"].sample(10, random_state = i)\n",
    "    mean = sample.mean()\n",
    "    sample_mean.append(mean)\n",
    "print(sample_mean)"
   ]
  },
  {
   "cell_type": "code",
   "execution_count": 7,
   "metadata": {},
   "outputs": [
    {
     "data": {
      "text/plain": [
       "<matplotlib.lines.Line2D at 0x25b1160d390>"
      ]
     },
     "execution_count": 7,
     "metadata": {},
     "output_type": "execute_result"
    },
    {
     "data": {
      "image/png": "[encoded data removed]",
      "text/plain": [
       "<Figure size 432x288 with 1 Axes>"
      ]
     },
     "metadata": {
      "needs_background": "light"
     },
     "output_type": "display_data"
    }
   ],
   "source": [
    "# Display the discrepancy between the parameter of \n",
    "# interest (the mean of the PTS column) \n",
    "# and the statistics obtained Using plt.scatter()\n",
    "plt.scatter(range(1,101), sample_mean)\n",
    "plt.ylim(0,350)\n",
    "plt.axhline(population_mean)"
   ]
  },
  {
   "cell_type": "markdown",
   "metadata": {},
   "source": [
    "From the scatter plot, we can notice that the **sample means vary a lot around the population mean**. With a minimum sample mean of `115` points, a maximum of `301.4`, and a population mean of roughly `201.8`, we can tell that the sampling error is quite large for some of the cases."
   ]
  },
  {
   "cell_type": "markdown",
   "metadata": {},
   "source": [
    "Because sample means vary a lot around the population mean, there's a good chance we get a sample that is not representative of the population:"
   ]
  },
  {
   "cell_type": "markdown",
   "metadata": {},
   "source": [
    "This problem can be solved by increasing the sample size. As we increase the sample size, the sample means vary less around the population mean, and the chances of getting an unrepresentative sample decrease. We took 100 samples, and each had a sample size of 10 units."
   ]
  },
  {
   "cell_type": "markdown",
   "metadata": {},
   "source": [
    "From this observation we can make two conclusions:\n",
    "\n",
    "* Simple random sampling is not a reliable sampling method when the sample size is small. Because sample means vary a lot around the population mean, there's a good chance we'll get an unrepresentative sample.\n",
    "* When we do simple random sampling, we should try to get a sample that is as large as possible. A large sample decreases the variability of the sampling process, which in turn decreases the chances that we'll get an unrepresentative sample."
   ]
  },
  {
   "cell_type": "markdown",
   "metadata": {},
   "source": [
    "Because simple random sampling is entirely random, it can leave out certain population individuals that are of great interest to some of the questions we may have.\n",
    "\n",
    "For example, players in basketball play in different positions on the court. The metrics of a player (**number of points**, **number of assists**, etc.) depend on their position, and we might want to analyze the patterns for each individual position. \n",
    "\n",
    "If we perform simple random sampling, there's a chance that some categories won't be included in our sample. In other words, it's not guaranteed that we'll have a representative sample that has observations for every position we want to analyze."
   ]
  },
  {
   "cell_type": "code",
   "execution_count": 8,
   "metadata": {},
   "outputs": [
    {
     "name": "stdout",
     "output_type": "stream",
     "text": [
      "['F' 'G/F' 'G' 'C' 'F/C']\n"
     ]
    }
   ],
   "source": [
    "# There are five unique positions in our data set:\n",
    "\n",
    "print(wnba[\"Pos\"].unique())"
   ]
  },
  {
   "cell_type": "markdown",
   "metadata": {},
   "source": [
    "* `F` Forward\n",
    "* `G` Guard\n",
    "* `C` Center\n",
    "* `G/F` Guard/Forward\n",
    "* `F/C` Forward/Center"
   ]
  },
  {
   "cell_type": "markdown",
   "metadata": {},
   "source": [
    "To ensure we end up with a sample that has observations for all the categories of interest, we can change the sampling method. We can organize our data set into different groups, and then do simple random sampling for every group."
   ]
  },
  {
   "cell_type": "markdown",
   "metadata": {},
   "source": [
    "We can group our data set by player position, and then sample randomly from each group. This sampling method is called **stratified sampling**, and each **stratified group** is also known as a **stratum**."
   ]
  },
  {
   "cell_type": "code",
   "execution_count": 9,
   "metadata": {},
   "outputs": [],
   "source": [
    "# Create a new column which describes the number of points a player scored per game during the season.\n",
    "wnba[\"Pts_per_game\"] = wnba[\"PTS\"] / wnba[\"Games Played\"]"
   ]
  },
  {
   "cell_type": "code",
   "execution_count": 10,
   "metadata": {},
   "outputs": [],
   "source": [
    "# Stratify the wnba data set by player position\n",
    "\n",
    "stratum_F = wnba[wnba[\"Pos\"] == \"F\"]\n",
    "stratum_GF = wnba[wnba[\"Pos\"] == \"G/F\"]\n",
    "stratum_G = wnba[wnba[\"Pos\"] == \"G\"]\n",
    "stratum_C = wnba[wnba[\"Pos\"] == \"C\"]\n",
    "stratum_FC = wnba[wnba[\"Pos\"] == \"F/C\"]\n",
    "\n",
    "stratums = [[stratum_F,\"F\"], [stratum_GF,\"GF\"],[stratum_G, \"G\"],\n",
    "           [stratum_C, \"C\"] ,[stratum_FC, \"FC\"]]"
   ]
  },
  {
   "cell_type": "code",
   "execution_count": 11,
   "metadata": {},
   "outputs": [
    {
     "data": {
      "text/plain": [
       "{'F': 8.702175158545568,\n",
       " 'GF': 6.817264935760487,\n",
       " 'G': 7.092926195632343,\n",
       " 'C': 9.833761394334251,\n",
       " 'FC': 9.059118773946361}"
      ]
     },
     "execution_count": 11,
     "metadata": {},
     "output_type": "execute_result"
    }
   ],
   "source": [
    "# Loop through the strata, and for each stratum:\n",
    "# Sample 10 observations using simple random sampling (set random_state = 0).\n",
    "# Find the mean points per game using the sample\n",
    "\n",
    "points_per_position = {}\n",
    "\n",
    "for stratum, position in stratums:\n",
    "    sample = stratum[\"Pts_per_game\"].sample(10, random_state = 0)\n",
    "    mean = sample.mean()\n",
    "    points_per_position[position] = mean\n",
    "    \n",
    "points_per_position"
   ]
  },
  {
   "cell_type": "code",
   "execution_count": 12,
   "metadata": {},
   "outputs": [
    {
     "data": {
      "text/plain": [
       "'C'"
      ]
     },
     "execution_count": 12,
     "metadata": {},
     "output_type": "execute_result"
    }
   ],
   "source": [
    "# Find the position that has the greatest number of points per game\n",
    "position_most_points = max(points_per_position,key = points_per_position.get)\n",
    "position_most_points"
   ]
  },
  {
   "cell_type": "code",
   "execution_count": 13,
   "metadata": {},
   "outputs": [],
   "source": [
    "# for k in points_per_position:\n",
    "#     print(k,round(points_per_position.get(k),2))"
   ]
  },
  {
   "cell_type": "markdown",
   "metadata": {},
   "source": [
    "Earlier in this file we performed simple random sampling 100 times on the original data set, and for each sample we computed the mean number of total points a player scores in a season. \n",
    "\n",
    "The problem is that the **number of total points** is influenced by the **number of games played**, which ranges from `2` to `32`:\n",
    "\n",
    "`print(wnba['Games Played'].min())\n",
    " 2`\n",
    "\n",
    "`print(wnba['Games Played'].max())\n",
    " 32`"
   ]
  },
  {
   "cell_type": "markdown",
   "metadata": {},
   "source": [
    "Approximately 72.7% of the players had more than 23 games for the 2016-2017 season, which means that the mean of the total points is probably influenced by this category of players who played a lot of games."
   ]
  },
  {
   "cell_type": "code",
   "execution_count": 31,
   "metadata": {},
   "outputs": [
    {
     "data": {
      "text/plain": [
       "(22.0, 32.0]     72.73\n",
       "(12.0, 22.0]     18.18\n",
       "(1.969, 12.0]     9.09\n",
       "Name: Games Played, dtype: float64"
      ]
     },
     "execution_count": 31,
     "metadata": {},
     "output_type": "execute_result"
    }
   ],
   "source": [
    "round(wnba['Games Played'].value_counts(bins = 3, normalize = True)*100,2)"
   ]
  },
  {
   "cell_type": "markdown",
   "metadata": {},
   "source": [
    "The `(` character indicates that the beginning of the interval is not included, and the `]` indicates that the endpoint is included. \n",
    "\n",
    "For example, `(22.0`, `32.0]` means that `22.0` isn't included, while `32.0` is, and the interval contains this array of numbers: `[23, 24, 25, 26, 27, 28, 29, 30, 31, 32]`."
   ]
  },
  {
   "cell_type": "markdown",
   "metadata": {},
   "source": [
    "When we compute the mean of the total points using the population (the entire data set), the mean will probably be signficantly influenced by those 72.7% players who played more than 23 games. However, when we sample randomly, we can end up with a sample where the proportions are different than in the population."
   ]
  },
  {
   "cell_type": "markdown",
   "metadata": {},
   "source": [
    "For instance, we might end up with a sample where only 2% of the players played more than 23 games. This will result in a sample mean which underestimates the population mean. Or we could have a sample where more than 95% of the players had 23 games in the 2016-2017 season. This will result in overestimating the population mean. This scenario of under or over estimation is common for small samples."
   ]
  },
  {
   "cell_type": "markdown",
   "metadata": {},
   "source": [
    "One solution to this problem is to use **stratified sampling** while being mindful of the proportions in the population. \n",
    "\n",
    "We can stratify our data set by the number of games played, and then sample randomly from each stratum a proportional number of observations."
   ]
  },
  {
   "cell_type": "code",
   "execution_count": 49,
   "metadata": {},
   "outputs": [],
   "source": [
    "# Stratify the data set by the number of games played in the following way: \n",
    "# the first strata should be composed of players that played 12 games or less; \n",
    "# the second of players that played more than 12 games, but up to 22 (included); \n",
    "# and the third of players that played more than 22 games (22 not included).\n",
    "\n",
    "under_12 = wnba[wnba['Games Played']<= 12]\n",
    "btw_13_22 = wnba[(wnba['Games Played'] > 12) & (wnba['Games Played'] <= 22)]  # wnba[(wnba['Games Played'].between(13,22)]\n",
    "over_23 = wnba[wnba['Games Played']>22]"
   ]
  },
  {
   "cell_type": "raw",
   "metadata": {},
   "source": [
    "(22.0, 32.0]     72.73% or round to 70%\n",
    "(12.0, 22.0]     18.18% or round to 20% \n",
    "(1.969, 12.0]     9.09% or round to 10%"
   ]
  },
  {
   "cell_type": "code",
   "execution_count": 50,
   "metadata": {},
   "outputs": [
    {
     "data": {
      "text/plain": [
       "100"
      ]
     },
     "execution_count": 50,
     "metadata": {},
     "output_type": "execute_result"
    }
   ],
   "source": [
    "# Perform stratified sampling 100 times for 10 samples on points\n",
    "# Compute the mean of the final sample, and append it to a list\n",
    "\n",
    "proportional_sampling_means = []\n",
    "\n",
    "for i in range(0,100):\n",
    "    sample_under_12 = under_12[\"PTS\"].sample(1, random_state = i)\n",
    "    sample_btw_13_22 = btw_13_22[\"PTS\"].sample(2, random_state = i)\n",
    "    sample_over_23 = over_23[\"PTS\"].sample(7, random_state = i)\n",
    "    final_sample = pd.concat([sample_under_12,sample_btw_13_22, sample_over_23], axis = 0)\n",
    "    mean = final_sample.mean()\n",
    "    proportional_sampling_means.append(mean)\n",
    "\n",
    "len(proportional_sampling_means) "
   ]
  },
  {
   "cell_type": "code",
   "execution_count": 51,
   "metadata": {},
   "outputs": [
    {
     "data": {
      "text/plain": [
       "<matplotlib.lines.Line2D at 0x25b1dff4898>"
      ]
     },
     "execution_count": 51,
     "metadata": {},
     "output_type": "execute_result"
    },
    {
     "data": {
      "image/png": "[encoded data removed]",
      "text/plain": [
       "<Figure size 432x288 with 1 Axes>"
      ]
     },
     "metadata": {
      "needs_background": "light"
     },
     "output_type": "display_data"
    }
   ],
   "source": [
    "# Using plt.scatter(), display the sampling means on a scatter plot.\n",
    "\n",
    "plt.scatter(range(1,101), proportional_sampling_means,s = 8)\n",
    "plt.xlim((-20,120))\n",
    "plt.ylim((100,350))\n",
    "plt.axhline(wnba[\"PTS\"].mean())"
   ]
  },
  {
   "cell_type": "markdown",
   "metadata": {},
   "source": [
    "The variability of the sampling was quite large, and many sample means were unrepresentative, being far from the population mean. In fact, this sampling method doesn't seem to perform better than **simple random sampling**"
   ]
  },
  {
   "cell_type": "markdown",
   "metadata": {},
   "source": [
    "The poor performance is caused by a bad choice of strata. We stratified the data by the **number of games played**, but this isn't a good approach. A player is considered as having played one game even if she only played for one or two minutes. But others play 30 or 40 minutes, and they're still considered as having played one game.\n",
    "\n",
    "It makes **more sense to stratify the data by number of minutes played**, rather than by number of games played. The minutes played are a much better indicator of how much a player scored in a season than the number of games played.\n",
    "\n",
    "Our data set contains the total amount of minutes a player had for the entire season. If we make **strata based on minutes played, and then sample proportionally using stratified sampling**, we get something visibly better than simple random sampling (especially in terms of variability)"
   ]
  },
  {
   "cell_type": "code",
   "execution_count": 53,
   "metadata": {},
   "outputs": [
    {
     "data": {
      "text/plain": [
       "(347.333, 682.667]    34.965035\n",
       "(10.993, 347.333]     33.566434\n",
       "(682.667, 1018.0]     31.468531\n",
       "Name: MIN, dtype: float64"
      ]
     },
     "execution_count": 53,
     "metadata": {},
     "output_type": "execute_result"
    }
   ],
   "source": [
    "(wnba['MIN'].value_counts(bins = 3, normalize = True))*100"
   ]
  },
  {
   "cell_type": "markdown",
   "metadata": {},
   "source": [
    "Here are a few guidelines for choosing good strata:\n",
    "\n",
    "# 1. Minimize the variability within each stratum.\n",
    "\n",
    "For instance, avoid having in the same stratum a player that has scored 10 points and a player that has scored 500. If the variability is high, it might be a sign that we either need a more granular stratification (need more strata), or we need to change the criterion of stratification (an example of criterion is minutes played).\n",
    "\n",
    "# 2. Maximize the variability between strata.\n",
    "\n",
    "Good strata are different from one another. If we have strata that are similar to one another with respect to what we want to measure, we might need a more granular stratification, or to change the stratification criterion. \n",
    "\n",
    "Stratifying the data by games played resulted in strata that weren't too different from each other with respect to the distribution of the total points. We managed to increase the variability between strata by changing the criterion of stratification to minutes played."
   ]
  },
  {
   "cell_type": "markdown",
   "metadata": {},
   "source": [
    "# 3. The stratification criterion should be strongly correlated with the property we're trying to measure.\n",
    "\n",
    "For instance, the column describing minutes played (the criterion) should be strongly correlated with the number of total points (property we want to measure). "
   ]
  },
  {
   "cell_type": "markdown",
   "metadata": {},
   "source": [
    "# -------------------------------------------------------------------"
   ]
  },
  {
   "cell_type": "markdown",
   "metadata": {},
   "source": [
    "The data set we've been working with was scraped from the [WNBA's website](https://www.wnba.com/stats/player-stats/#?Season=2017&SeasonType=Regular%20Season&PerMode=Totals). The website centralizes data on basketball games and players in WNBA. Let's suppose for a moment that such a site didn't exist, and the data were instead scattered across each individual team's website. There are twelve unique teams in our data set, which means we'd have to scrape twelve different websites, each requiring its own scraping script."
   ]
  },
  {
   "cell_type": "markdown",
   "metadata": {},
   "source": [
    "This scenario is quite common in the data science workflow: We want to answer some questions about a population, but the data is scattered in such a way that data collection is either time-consuming or close to impossible"
   ]
  },
  {
   "cell_type": "markdown",
   "metadata": {},
   "source": [
    "One way is to list all the data sources we can find, and then randomly pick only a few of them to collect data from. Then we can sample individually each of the sources we've randomly picked. This sampling method is called **cluster sampling**, and each of the individual data sources is called a **cluster**."
   ]
  },
  {
   "cell_type": "markdown",
   "metadata": {},
   "source": [
    "Assuming that all the teams in our data set have a website where we can take data from, we end up with this list of clusters (each team's website is considered a cluster) "
   ]
  },
  {
   "cell_type": "code",
   "execution_count": 55,
   "metadata": {},
   "outputs": [
    {
     "name": "stdout",
     "output_type": "stream",
     "text": [
      "['DAL' 'LA' 'CON' 'SAN' 'MIN' 'SEA' 'PHO' 'CHI' 'WAS' 'NY' 'ATL' 'IND']\n"
     ]
    }
   ],
   "source": [
    "print(wnba[\"Team\"].unique())"
   ]
  },
  {
   "cell_type": "markdown",
   "metadata": {},
   "source": [
    "Then we need to find a way to pick randomly a few clusters from our listing. There are many ways to do that, but the important thing to keep in mind is that we should avoid picking a cluster twice."
   ]
  },
  {
   "cell_type": "code",
   "execution_count": 62,
   "metadata": {},
   "outputs": [
    {
     "data": {
      "text/plain": [
       "6     PHO\n",
       "11    IND\n",
       "4     MIN\n",
       "10    ATL\n",
       "dtype: object"
      ]
     },
     "execution_count": 62,
     "metadata": {},
     "output_type": "execute_result"
    }
   ],
   "source": [
    "pd.Series(wnba[\"Team\"].unique()).sample(4,random_state = 0)"
   ]
  },
  {
   "cell_type": "markdown",
   "metadata": {},
   "source": [
    "Once we pick the clusters, we move to collecting the data. We can collect all the data from each cluster, but we can also perform sampling on each. It's actually possible to use different sampling methods for different clusters. For instance, we can use stratified sampling on the first two clusters, and simple random sampling on the other two."
   ]
  },
  {
   "cell_type": "code",
   "execution_count": 63,
   "metadata": {},
   "outputs": [],
   "source": [
    "# Let's simulate a cluster sampling on our data set.\n",
    "\n",
    "cluster = pd.Series(wnba[\"Team\"].unique()).sample(4,random_state = 0)"
   ]
  },
  {
   "cell_type": "code",
   "execution_count": 66,
   "metadata": {},
   "outputs": [],
   "source": [
    "# Collect the data from each cluster without sampling the clusters.\n",
    "# Create a new DataFrame object that stores the data collected from all clusters\n",
    "\n",
    "sample = pd.DataFrame()\n",
    "\n",
    "for i in cluster:\n",
    "    data = wnba[wnba[\"Team\"] == i]\n",
    "    sample = sample.append(data)"
   ]
  },
  {
   "cell_type": "code",
   "execution_count": 68,
   "metadata": {},
   "outputs": [
    {
     "data": {
      "text/html": [
       "<div>\n",
       "<style scoped>\n",
       "    .dataframe tbody tr th:only-of-type {\n",
       "        vertical-align: middle;\n",
       "    }\n",
       "\n",
       "    .dataframe tbody tr th {\n",
       "        vertical-align: top;\n",
       "    }\n",
       "\n",
       "    .dataframe thead th {\n",
       "        text-align: right;\n",
       "    }\n",
       "</style>\n",
       "<table border=\"1\" class=\"dataframe\">\n",
       "  <thead>\n",
       "    <tr style=\"text-align: right;\">\n",
       "      <th></th>\n",
       "      <th>Name</th>\n",
       "      <th>Team</th>\n",
       "      <th>Pos</th>\n",
       "      <th>Height</th>\n",
       "      <th>Weight</th>\n",
       "      <th>BMI</th>\n",
       "      <th>Birth_Place</th>\n",
       "      <th>Birthdate</th>\n",
       "      <th>Age</th>\n",
       "      <th>College</th>\n",
       "      <th>...</th>\n",
       "      <th>DREB</th>\n",
       "      <th>REB</th>\n",
       "      <th>AST</th>\n",
       "      <th>STL</th>\n",
       "      <th>BLK</th>\n",
       "      <th>TO</th>\n",
       "      <th>PTS</th>\n",
       "      <th>DD2</th>\n",
       "      <th>TD3</th>\n",
       "      <th>Pts_per_game</th>\n",
       "    </tr>\n",
       "  </thead>\n",
       "  <tbody>\n",
       "    <tr>\n",
       "      <th>6</th>\n",
       "      <td>Alexis Prince</td>\n",
       "      <td>PHO</td>\n",
       "      <td>G</td>\n",
       "      <td>188</td>\n",
       "      <td>81.0</td>\n",
       "      <td>22.917610</td>\n",
       "      <td>US</td>\n",
       "      <td>February 5, 1994</td>\n",
       "      <td>23</td>\n",
       "      <td>Baylor</td>\n",
       "      <td>...</td>\n",
       "      <td>14</td>\n",
       "      <td>15</td>\n",
       "      <td>5</td>\n",
       "      <td>4</td>\n",
       "      <td>3</td>\n",
       "      <td>3</td>\n",
       "      <td>24</td>\n",
       "      <td>0</td>\n",
       "      <td>0</td>\n",
       "      <td>1.500000</td>\n",
       "    </tr>\n",
       "    <tr>\n",
       "      <th>15</th>\n",
       "      <td>Angel Robinson</td>\n",
       "      <td>PHO</td>\n",
       "      <td>F/C</td>\n",
       "      <td>198</td>\n",
       "      <td>88.0</td>\n",
       "      <td>22.446689</td>\n",
       "      <td>US</td>\n",
       "      <td>August 30, 1995</td>\n",
       "      <td>21</td>\n",
       "      <td>Arizona State</td>\n",
       "      <td>...</td>\n",
       "      <td>42</td>\n",
       "      <td>58</td>\n",
       "      <td>8</td>\n",
       "      <td>1</td>\n",
       "      <td>11</td>\n",
       "      <td>16</td>\n",
       "      <td>58</td>\n",
       "      <td>0</td>\n",
       "      <td>0</td>\n",
       "      <td>3.866667</td>\n",
       "    </tr>\n",
       "  </tbody>\n",
       "</table>\n",
       "<p>2 rows × 33 columns</p>\n",
       "</div>"
      ],
      "text/plain": [
       "              Name Team  Pos  Height  Weight        BMI Birth_Place  \\\n",
       "6    Alexis Prince  PHO    G     188    81.0  22.917610          US   \n",
       "15  Angel Robinson  PHO  F/C     198    88.0  22.446689          US   \n",
       "\n",
       "           Birthdate  Age        College      ...      DREB  REB  AST  STL  \\\n",
       "6   February 5, 1994   23         Baylor      ...        14   15    5    4   \n",
       "15   August 30, 1995   21  Arizona State      ...        42   58    8    1   \n",
       "\n",
       "    BLK  TO  PTS  DD2  TD3  Pts_per_game  \n",
       "6     3   3   24    0    0      1.500000  \n",
       "15   11  16   58    0    0      3.866667  \n",
       "\n",
       "[2 rows x 33 columns]"
      ]
     },
     "execution_count": 68,
     "metadata": {},
     "output_type": "execute_result"
    }
   ],
   "source": [
    "sample.head(2)"
   ]
  },
  {
   "cell_type": "code",
   "execution_count": 72,
   "metadata": {},
   "outputs": [
    {
     "data": {
      "text/plain": [
       "{'Height': -0.06400121617511445,\n",
       " 'Age': -1.401337792642142,\n",
       " 'BMI': 0.23095444165950596,\n",
       " 'PTS': -27.79674673152934}"
      ]
     },
     "execution_count": 72,
     "metadata": {},
     "output_type": "execute_result"
    }
   ],
   "source": [
    "# Use the data collected to estimate the mean  and sampling error for the following player attributes:\n",
    "\n",
    "# Height;\n",
    "# Age;\n",
    "# BMI;\n",
    "# PTS.\n",
    "\n",
    "attributes = [\"Height\",\"Age\", \"BMI\", \"PTS\"]\n",
    "\n",
    "sampling_errors = {}\n",
    "for i in attributes:\n",
    "    sampling_error = wnba[i].mean() - sample[i].mean()\n",
    "    sampling_errors[i] = sampling_error\n",
    "    \n",
    "sampling_errors"
   ]
  },
  {
   "cell_type": "markdown",
   "metadata": {},
   "source": [
    "# Scenarios for using sampling;\n",
    "\n",
    "Let's say we work for an e-commerce company that has a table in a database with more than 10 million rows of online transactions. The marketing team asks us to analyze the data and find categories of customers with a low buying rate, so that they can target their marketing campaigns at the right people. \n",
    "\n",
    "Instead of working with more than 10 million rows at each step of our analysis, we can save a lot of code running time by sampling several hundred rows, and perform our analysis on the sample. \n",
    "\n",
    "We can do a **simple random sampling**, but if we're interested in some categories beforehand, it might be a good idea to use **stratified sampling**.\n",
    "\n",
    "Let's consider a different situation. It could be that we need to collect data from an API that either has usage limit, or is not free. In this case, we are more or less forced to sample. Knowing how and what to sample can be of great use.\n",
    "\n",
    "Another common use case of sampling is when the data is scattered across different locations (different websites, different databases, different companies, etc.). As we've discussed above, **cluster sampling** would be a great choice in such a scenario."
   ]
  },
  {
   "cell_type": "markdown",
   "metadata": {},
   "source": [
    "Practical statistical analysis revolves entirely around the distinction between a **population** and a **sample**. \n",
    "\n",
    "When we're doing statistics in practice, our goal is either to describe a **sample** or a **population**, or to use a sample to draw conclusions about the population to which it belongs (or a mix of these two goals).\n",
    "\n",
    "When we describe a **sample** or a **population** (by measuring averages, proportions, and other metrics; by visualizing properties of the data through graphs; etc.), we do **descriptive statistics**.\n",
    "\n",
    "When we try to use a **sample to draw conclusions about a population**, we do **inferential statistics** (we infer information from the sample about the population)."
   ]
  },
  {
   "cell_type": "code",
   "execution_count": null,
   "metadata": {},
   "outputs": [],
   "source": []
  }
 ],
 "metadata": {
  "kernelspec": {
   "display_name": "Python 3",
   "language": "python",
   "name": "python3"
  },
  "language_info": {
   "codemirror_mode": {
    "name": "ipython",
    "version": 3
   },
   "file_extension": ".py",
   "mimetype": "text/x-python",
   "name": "python",
   "nbconvert_exporter": "python",
   "pygments_lexer": "ipython3",
   "version": "3.7.6"
  }
 },
 "nbformat": 4,
 "nbformat_minor": 2
}
