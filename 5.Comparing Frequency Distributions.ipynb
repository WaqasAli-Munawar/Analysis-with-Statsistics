{
 "cells": [
  {
   "cell_type": "markdown",
   "metadata": {},
   "source": [
    "In this file, we'll learn about the graphs we can use to compare multiple frequency distributions at once."
   ]
  },
  {
   "cell_type": "code",
   "execution_count": 1,
   "metadata": {},
   "outputs": [],
   "source": [
    "import pandas as pd\n",
    "import numpy as np\n",
    "import matplotlib.pyplot as plt\n",
    "from IPython.display import Image\n",
    "\n",
    "pd.set_option(\"max_columns\",250)"
   ]
  },
  {
   "cell_type": "code",
   "execution_count": 2,
   "metadata": {},
   "outputs": [],
   "source": [
    "wnba = pd.read_csv(\"wnba.csv\")"
   ]
  },
  {
   "cell_type": "code",
   "execution_count": 3,
   "metadata": {},
   "outputs": [],
   "source": [
    "def category(x):\n",
    "    \n",
    "    if pd.isnull(x):\n",
    "        return \"Rookie\"\n",
    "    elif 0< x <= 3:\n",
    "        return \"Little experience\"\n",
    "    elif 3< x <= 5:\n",
    "        return \"Experienced\"\n",
    "    elif 5< x <= 10:\n",
    "            return \"Very experienced\"\n",
    "    elif x > 10:\n",
    "        return \"Veteran\"\n",
    "        "
   ]
  },
  {
   "cell_type": "code",
   "execution_count": 4,
   "metadata": {},
   "outputs": [
    {
     "data": {
      "text/plain": [
       "Little experience    42\n",
       "Very experienced     37\n",
       "Experienced          25\n",
       "Rookie               23\n",
       "Veteran              16\n",
       "Name: Exp_ordinal, dtype: int64"
      ]
     },
     "execution_count": 4,
     "metadata": {},
     "output_type": "execute_result"
    }
   ],
   "source": [
    "wnba[\"Exp_ordinal\"] = pd.to_numeric(wnba[\"Experience\"], errors = \"coerce\").apply(category)\n",
    "\n",
    "wnba[\"Exp_ordinal\"].value_counts()"
   ]
  },
  {
   "cell_type": "code",
   "execution_count": 5,
   "metadata": {},
   "outputs": [
    {
     "name": "stdout",
     "output_type": "stream",
     "text": [
      "G      14\n",
      "C       4\n",
      "F       4\n",
      "F/C     1\n",
      "Name: Pos, dtype: int64 \n",
      "\n",
      " G      14\n",
      "F      13\n",
      "C       8\n",
      "F/C     4\n",
      "G/F     3\n",
      "Name: Pos, dtype: int64 \n",
      "\n",
      " G      9\n",
      "C      6\n",
      "F      6\n",
      "G/F    2\n",
      "F/C    2\n",
      "Name: Pos, dtype: int64 \n",
      "\n",
      " G      16\n",
      "C       6\n",
      "F       6\n",
      "G/F     5\n",
      "F/C     4\n",
      "Name: Pos, dtype: int64 \n",
      "\n",
      " G      7\n",
      "F      4\n",
      "G/F    3\n",
      "C      1\n",
      "F/C    1\n",
      "Name: Pos, dtype: int64\n"
     ]
    }
   ],
   "source": [
    "# generate a frequency distribution table for the Pos variable with different level of experience\n",
    "rookies = wnba[wnba['Exp_ordinal'] == 'Rookie']\n",
    "little_xp = wnba[wnba['Exp_ordinal'] == 'Little experience']\n",
    "experienced = wnba[wnba['Exp_ordinal'] == 'Experienced']\n",
    "very_xp = wnba[wnba['Exp_ordinal'] == 'Very experienced']\n",
    "veterans =  wnba[wnba['Exp_ordinal'] == 'Veteran']\n",
    "rookie_distro = rookies[\"Pos\"].value_counts()\n",
    "little_xp_distro = little_xp['Pos'].value_counts()\n",
    "experienced_distro = experienced['Pos'].value_counts()\n",
    "very_xp_distro = very_xp['Pos'].value_counts()\n",
    "veteran_distro = veterans['Pos'].value_counts()\n",
    "print(rookie_distro,\"\\n\\n\",little_xp_distro, \"\\n\\n\", experienced_distro, \"\\n\\n\", very_xp_distro, \"\\n\\n\", veteran_distro)"
   ]
  },
  {
   "cell_type": "markdown",
   "metadata": {},
   "source": [
    "How cumbersome really is to compare multiple distributions at once using frequency tables. Fortunately, we can make the comparison much quicker and more efficiently using graphs."
   ]
  },
  {
   "cell_type": "markdown",
   "metadata": {},
   "source": [
    "One kind of graph we can use to visualize the distribution of a nominal variable is a bar plot. A simple solution to our problem is to generate a bar plot for each table, and then group all the bar plots on a single figure. This graph is called a **grouped bar plot**."
   ]
  },
  {
   "cell_type": "markdown",
   "metadata": {},
   "source": [
    "We can generate a grouped bar plot using the seaborn.countplot() function from the seaborn module"
   ]
  },
  {
   "cell_type": "markdown",
   "metadata": {},
   "source": [
    "parameters for this function:\n",
    "\n",
    "* x — specifies as a string the name of the column we want on the x-axis. We'll place the Exp_ordinal column on the x-axis.\n",
    "* hue — specifies as a string the name of the column we want the bar plots generated for. We want to generate the bar plots for the Pos column.\n",
    "* data - specifies the name of the variable which stores the data set. We stored the data in a variable named wnba"
   ]
  },
  {
   "cell_type": "code",
   "execution_count": 6,
   "metadata": {},
   "outputs": [
    {
     "data": {
      "text/plain": [
       "<matplotlib.axes._subplots.AxesSubplot at 0x1f9e67f57b8>"
      ]
     },
     "execution_count": 6,
     "metadata": {},
     "output_type": "execute_result"
    },
    {
     "data": {
      "image/png": "[encoded data removed]",
      "text/plain": [
       "<Figure size 576x360 with 1 Axes>"
      ]
     },
     "metadata": {
      "needs_background": "light"
     },
     "output_type": "display_data"
    }
   ],
   "source": [
    "import seaborn as sns\n",
    "\n",
    "fig, ax = plt.subplots(figsize = (8,5))\n",
    "sns.countplot(x = 'Exp_ordinal', hue = \"Pos\", data = wnba, order = ['Rookie','Little experience', 'Experienced',\n",
    "                                                                   'Very experienced',  \"Veteran\"],\n",
    "             hue_order = [\"C\", \"F\",'F/C', 'G', 'G/F'])"
   ]
  },
  {
   "cell_type": "markdown",
   "metadata": {},
   "source": [
    "When players get past a certain age, they become less and less physically fit as they get older. Intuitively, the fitness level of a player should directly affect how much she plays in a season. On average, a WNBA player played approximately 497 minutes in the 2016-2017 season:"
   ]
  },
  {
   "cell_type": "code",
   "execution_count": 7,
   "metadata": {},
   "outputs": [
    {
     "name": "stdout",
     "output_type": "stream",
     "text": [
      "496.97202797202794\n"
     ]
    }
   ],
   "source": [
    "print(wnba['MIN'].mean())"
   ]
  },
  {
   "cell_type": "markdown",
   "metadata": {},
   "source": [
    "Let's hypothesize that older players generally play less than this average of 497 minutes, while younger players generally play more. As a benchmark to distinguish between younger and older players, we'll take the mean age of players in our sample, which is approximately 27:"
   ]
  },
  {
   "cell_type": "code",
   "execution_count": 8,
   "metadata": {},
   "outputs": [
    {
     "name": "stdout",
     "output_type": "stream",
     "text": [
      "27.076923076923077\n"
     ]
    }
   ],
   "source": [
    "print(wnba['Age'].mean())"
   ]
  },
  {
   "cell_type": "code",
   "execution_count": 9,
   "metadata": {},
   "outputs": [],
   "source": [
    "wnba[\"min_mean_relative\"] = wnba['MIN'].apply(lambda x:\"average or above\" if x >= 497 else \"below average\")"
   ]
  },
  {
   "cell_type": "code",
   "execution_count": 10,
   "metadata": {},
   "outputs": [
    {
     "data": {
      "text/html": [
       "<div>\n",
       "<style scoped>\n",
       "    .dataframe tbody tr th:only-of-type {\n",
       "        vertical-align: middle;\n",
       "    }\n",
       "\n",
       "    .dataframe tbody tr th {\n",
       "        vertical-align: top;\n",
       "    }\n",
       "\n",
       "    .dataframe thead th {\n",
       "        text-align: right;\n",
       "    }\n",
       "</style>\n",
       "<table border=\"1\" class=\"dataframe\">\n",
       "  <thead>\n",
       "    <tr style=\"text-align: right;\">\n",
       "      <th></th>\n",
       "      <th>MIN</th>\n",
       "      <th>min_mean_relative</th>\n",
       "    </tr>\n",
       "  </thead>\n",
       "  <tbody>\n",
       "    <tr>\n",
       "      <th>0</th>\n",
       "      <td>173</td>\n",
       "      <td>below average</td>\n",
       "    </tr>\n",
       "    <tr>\n",
       "      <th>1</th>\n",
       "      <td>947</td>\n",
       "      <td>average or above</td>\n",
       "    </tr>\n",
       "    <tr>\n",
       "      <th>2</th>\n",
       "      <td>617</td>\n",
       "      <td>average or above</td>\n",
       "    </tr>\n",
       "    <tr>\n",
       "      <th>3</th>\n",
       "      <td>721</td>\n",
       "      <td>average or above</td>\n",
       "    </tr>\n",
       "    <tr>\n",
       "      <th>4</th>\n",
       "      <td>137</td>\n",
       "      <td>below average</td>\n",
       "    </tr>\n",
       "  </tbody>\n",
       "</table>\n",
       "</div>"
      ],
      "text/plain": [
       "   MIN min_mean_relative\n",
       "0  173     below average\n",
       "1  947  average or above\n",
       "2  617  average or above\n",
       "3  721  average or above\n",
       "4  137     below average"
      ]
     },
     "execution_count": 10,
     "metadata": {},
     "output_type": "execute_result"
    }
   ],
   "source": [
    "wnba[[\"MIN\",\"min_mean_relative\" ]].head()"
   ]
  },
  {
   "cell_type": "code",
   "execution_count": 11,
   "metadata": {},
   "outputs": [],
   "source": [
    "wnba[\"age_mean_relative\"] = wnba['Age'].apply(lambda x: \"old\" if x >= 27 else \"young\")"
   ]
  },
  {
   "cell_type": "code",
   "execution_count": 12,
   "metadata": {},
   "outputs": [
    {
     "data": {
      "text/html": [
       "<div>\n",
       "<style scoped>\n",
       "    .dataframe tbody tr th:only-of-type {\n",
       "        vertical-align: middle;\n",
       "    }\n",
       "\n",
       "    .dataframe tbody tr th {\n",
       "        vertical-align: top;\n",
       "    }\n",
       "\n",
       "    .dataframe thead th {\n",
       "        text-align: right;\n",
       "    }\n",
       "</style>\n",
       "<table border=\"1\" class=\"dataframe\">\n",
       "  <thead>\n",
       "    <tr style=\"text-align: right;\">\n",
       "      <th></th>\n",
       "      <th>Age</th>\n",
       "      <th>age_mean_relative</th>\n",
       "    </tr>\n",
       "  </thead>\n",
       "  <tbody>\n",
       "    <tr>\n",
       "      <th>0</th>\n",
       "      <td>23</td>\n",
       "      <td>young</td>\n",
       "    </tr>\n",
       "    <tr>\n",
       "      <th>1</th>\n",
       "      <td>35</td>\n",
       "      <td>old</td>\n",
       "    </tr>\n",
       "    <tr>\n",
       "      <th>2</th>\n",
       "      <td>26</td>\n",
       "      <td>young</td>\n",
       "    </tr>\n",
       "    <tr>\n",
       "      <th>3</th>\n",
       "      <td>28</td>\n",
       "      <td>old</td>\n",
       "    </tr>\n",
       "    <tr>\n",
       "      <th>4</th>\n",
       "      <td>23</td>\n",
       "      <td>young</td>\n",
       "    </tr>\n",
       "  </tbody>\n",
       "</table>\n",
       "</div>"
      ],
      "text/plain": [
       "   Age age_mean_relative\n",
       "0   23             young\n",
       "1   35               old\n",
       "2   26             young\n",
       "3   28               old\n",
       "4   23             young"
      ]
     },
     "execution_count": 12,
     "metadata": {},
     "output_type": "execute_result"
    }
   ],
   "source": [
    "wnba[['Age',\"age_mean_relative\"]].head()"
   ]
  },
  {
   "cell_type": "code",
   "execution_count": 13,
   "metadata": {},
   "outputs": [
    {
     "data": {
      "text/plain": [
       "<matplotlib.axes._subplots.AxesSubplot at 0x1f9e66069e8>"
      ]
     },
     "execution_count": 13,
     "metadata": {},
     "output_type": "execute_result"
    },
    {
     "data": {
      "image/png": "[encoded data removed]",
      "text/plain": [
       "<Figure size 432x432 with 1 Axes>"
      ]
     },
     "metadata": {
      "needs_background": "light"
     },
     "output_type": "display_data"
    }
   ],
   "source": [
    "# Generate a grouped bar plot to confirm or reject our hypothesis\n",
    "fig, ax = plt.subplots(figsize = (6,6))\n",
    "sns.countplot(x = \"age_mean_relative\", hue = \"min_mean_relative\", data = wnba)"
   ]
  },
  {
   "cell_type": "code",
   "execution_count": 14,
   "metadata": {},
   "outputs": [],
   "source": [
    "# sns.FacetGrid(wnba, col = \"min_mean_relative\", size = 6).map(sns.kdeplot, \"age_mean_relative\", shade = True)\n",
    "# its only work ratio or interval variable"
   ]
  },
  {
   "cell_type": "markdown",
   "metadata": {},
   "source": [
    "Contrary to what our hypothesis predicted, the grouped bar plot we built showed that among old players the \"average or above\" category is the most numerous"
   ]
  },
  {
   "cell_type": "markdown",
   "metadata": {},
   "source": [
    "A shortcoming of our analysis so far is that the min_mean_relative variable doesn't show much granularity. We can see that more old players belong to the \"average or above\" category than to \"below average\", but we can't tell, for instance, whether old players generally play much more than the average. For all we know, they could have all played exactly 497 minutes (which is the average)."
   ]
  },
  {
   "cell_type": "markdown",
   "metadata": {},
   "source": [
    "The min_mean_relative variable is ordinal, and it was derived from the MIN variable, which is measured on a ratio scale. The information provided by the MIN variable is much more granular, and we can plot the distribution of this variable instead. Because the MIN variable is measured on a ratio scale, we'll need to use histograms instead of bar plots."
   ]
  },
  {
   "cell_type": "markdown",
   "metadata": {},
   "source": [
    "The easiest way to compare two histograms is to superimpose one on top of the other."
   ]
  },
  {
   "cell_type": "code",
   "execution_count": 15,
   "metadata": {},
   "outputs": [
    {
     "data": {
      "text/plain": [
       "<matplotlib.legend.Legend at 0x1f9e6bc5978>"
      ]
     },
     "execution_count": 15,
     "metadata": {},
     "output_type": "execute_result"
    },
    {
     "data": {
      "image/png": "[encoded data removed]",
      "text/plain": [
       "<Figure size 432x288 with 1 Axes>"
      ]
     },
     "metadata": {
      "needs_background": "light"
     },
     "output_type": "display_data"
    }
   ],
   "source": [
    "fig, ax = plt.subplots(figsize = (6,4))\n",
    "wnba[wnba.Age>=27][\"MIN\"].plot.hist(label = \"old\")\n",
    "wnba[wnba[\"Age\"]<27][\"MIN\"].plot.hist(label = \"young\")\n",
    "plt.axvline(497, label = \"average\")\n",
    "plt.legend(loc = \"upper center\")"
   ]
  },
  {
   "cell_type": "markdown",
   "metadata": {},
   "source": [
    "We can now see that most of the old players that belong to the \"average or above\" category play significantly more than average. The main downside of the visualization above is that the histogram for young players covers a large part of the other histogram. We can fix this easily by plotting only the shape of the histograms."
   ]
  },
  {
   "cell_type": "code",
   "execution_count": 16,
   "metadata": {},
   "outputs": [
    {
     "data": {
      "text/plain": [
       "<matplotlib.legend.Legend at 0x1f9e697ab38>"
      ]
     },
     "execution_count": 16,
     "metadata": {},
     "output_type": "execute_result"
    },
    {
     "data": {
      "image/png": "[encoded data removed]",
      "text/plain": [
       "<Figure size 432x288 with 1 Axes>"
      ]
     },
     "metadata": {
      "needs_background": "light"
     },
     "output_type": "display_data"
    }
   ],
   "source": [
    "fig, ax = plt.subplots(figsize = (6,4))\n",
    "wnba[wnba.Age>=27][\"MIN\"].plot.hist(label = \"old\", histtype = \"step\")\n",
    "wnba[wnba[\"Age\"]<27][\"MIN\"].plot.hist(label = \"young\",histtype = \"step\")\n",
    "plt.axvline(497, label = \"average\")\n",
    "plt.legend(loc = \"upper center\")"
   ]
  },
  {
   "cell_type": "markdown",
   "metadata": {},
   "source": [
    "The step-type histograms we built made it possible to see clearly both distributions. The graph looked a bit overcrowded though, and the legend was not ideally positioned.\n",
    "\n",
    "If we added more histograms to the graph above, it would become highly unreadable, and it'd be difficult to see any clear patterns. One solution to this problem is to smooth out the shape of the histograms to make them look less dense on the graph. \n",
    "\n",
    "We can smooth out our two histograms above for old and young players using the Series.plot.kde() function:"
   ]
  },
  {
   "cell_type": "code",
   "execution_count": 17,
   "metadata": {},
   "outputs": [
    {
     "data": {
      "text/plain": [
       "<matplotlib.legend.Legend at 0x1f9e69a6e10>"
      ]
     },
     "execution_count": 17,
     "metadata": {},
     "output_type": "execute_result"
    },
    {
     "data": {
      "image/png": "[encoded data removed]",
      "text/plain": [
       "<Figure size 432x288 with 1 Axes>"
      ]
     },
     "metadata": {
      "needs_background": "light"
     },
     "output_type": "display_data"
    }
   ],
   "source": [
    "wnba[wnba.Age>=27][\"MIN\"].plot.kde(label = \"old\")\n",
    "wnba[wnba[\"Age\"]<27][\"MIN\"].plot.kde(label = \"young\")\n",
    "plt.axvline(497, label = \"Average\")\n",
    "plt.legend()"
   ]
  },
  {
   "cell_type": "markdown",
   "metadata": {},
   "source": [
    "We can still observe that most of the old players that belong to the \"average or above\n",
    "\n",
    "Each of the smoothed histograms above is called a **kernel density estimate plot or, shorter, kernel density plot**. Unlike histograms, kernel density plots display densities on the y-axis instead of frequencies. The density values are actually probability values \n",
    "\n",
    "Now we can say that kernel density plots provide more clear picture about the shape of a distribution"
   ]
  },
  {
   "cell_type": "markdown",
   "metadata": {},
   "source": [
    "As data scientists, we'll often need to compare more than two distributions. In fact, we compared five distributions on a grouped bar plot:\n",
    "\n",
    "Grouped bar plots are ideal for variables measured on nominal and ordinal scales. For variables measured on a ratio or interval scale, we learned that kernel density plots are a good solution when we have many distributions to compare. However, kernel density plots tend to become unreadable as we reach five distributions or more.\n",
    "\n"
   ]
  },
  {
   "cell_type": "code",
   "execution_count": 18,
   "metadata": {},
   "outputs": [
    {
     "data": {
      "text/plain": [
       "<matplotlib.axes._subplots.AxesSubplot at 0x1f9e6a60ac8>"
      ]
     },
     "execution_count": 18,
     "metadata": {},
     "output_type": "execute_result"
    },
    {
     "data": {
      "image/png": "[encoded data removed]",
      "text/plain": [
       "<Figure size 432x288 with 1 Axes>"
      ]
     },
     "metadata": {
      "needs_background": "light"
     },
     "output_type": "display_data"
    }
   ],
   "source": [
    "wnba[wnba.Pos == 'F']['Height'].plot.kde(label = 'F', legend = True)\n",
    "wnba[wnba.Pos == 'C']['Height'].plot.kde(label = 'C', legend = True)\n",
    "wnba[wnba.Pos == 'G']['Height'].plot.kde(label = 'G', legend = True)\n",
    "wnba[wnba.Pos == 'G/F']['Height'].plot.kde(label = 'G/F', legend = True)\n",
    "wnba[wnba.Pos == 'F/C']['Height'].plot.kde(label = 'F/C', legend = True)\n"
   ]
  },
  {
   "cell_type": "markdown",
   "metadata": {},
   "source": [
    "If we look very closely, we can see a couple of clear patterns: the shortest players are generally guards, the tallest players are generally centers, mid-height players are generally forwards or play in a combined position, etc.\n",
    "\n",
    "Having to look very closely to a graph to identify obvious patterns is far from ideal. To overcome this problem, we can use other kinds of graphs, which present the same information in a more readable way."
   ]
  },
  {
   "cell_type": "markdown",
   "metadata": {},
   "source": [
    "# Strip Plot"
   ]
  },
  {
   "cell_type": "code",
   "execution_count": 20,
   "metadata": {},
   "outputs": [
    {
     "data": {
      "text/plain": [
       "<matplotlib.axes._subplots.AxesSubplot at 0x1f9e6b81a90>"
      ]
     },
     "execution_count": 20,
     "metadata": {},
     "output_type": "execute_result"
    },
    {
     "data": {
      "image/png": "[encoded data removed]",
      "text/plain": [
       "<Figure size 432x288 with 1 Axes>"
      ]
     },
     "metadata": {
      "needs_background": "light"
     },
     "output_type": "display_data"
    }
   ],
   "source": [
    "sns.stripplot(x = \"Pos\", y = \"Height\", data = wnba, jitter = False)"
   ]
  },
  {
   "cell_type": "markdown",
   "metadata": {},
   "source": [
    "This is one alternative we can use to visualize the distribution of heights as a function of player position. We are end up with five narrow vertical strips, one above each unique value on the x-axis. Because of this, each of the five plots is called a **strip plot**.\n",
    "\n",
    "The Pos variable is represented on the x-axis, while Height is on the y-axis. Each of the five vertical lines made of distinctly colored bullets represents a distribution. These are the logical steps we'd take to build a plot like the one above:\n",
    "\n",
    "1. Segment the data set by player position.\n",
    "2. For every segment:\n",
    " * List all the values in the Height variable.\n",
    " * For every value in that list, draw a bullet point on a graph. The x-coordinate of the bullet point is given by the player position, and the y-coordinate by the player's height."
   ]
  },
  {
   "cell_type": "markdown",
   "metadata": {},
   "source": [
    "We can see on the graph that the shortest players are guards — in fact, all players under 180 cm are guards. The tallest players are centers — this is the only category with players above 2 meters. Among combined positions, we can see that F/C has slightly taller representatives — most likely because it requires center qualities (and we've seen that the tallest players are generally centers).\n",
    "\n",
    "A big downside of strip plots is that the bullet points overlap. We can fix this by adding a bit of jitter to each distribution. We can do this by setting the jitter parameter to True:"
   ]
  },
  {
   "cell_type": "code",
   "execution_count": 22,
   "metadata": {},
   "outputs": [
    {
     "data": {
      "text/plain": [
       "<matplotlib.axes._subplots.AxesSubplot at 0x1f9e9da4b00>"
      ]
     },
     "execution_count": 22,
     "metadata": {},
     "output_type": "execute_result"
    },
    {
     "data": {
      "image/png": "[encoded data removed]",
      "text/plain": [
       "<Figure size 432x288 with 1 Axes>"
      ]
     },
     "metadata": {
      "needs_background": "light"
     },
     "output_type": "display_data"
    }
   ],
   "source": [
    "sns.stripplot(x = \"Pos\", y = \"Height\", data = wnba, jitter = True)"
   ]
  },
  {
   "cell_type": "markdown",
   "metadata": {},
   "source": [
    "# Box-and-whisker plot(box plot)."
   ]
  },
  {
   "cell_type": "code",
   "execution_count": 43,
   "metadata": {},
   "outputs": [
    {
     "data": {
      "text/plain": [
       "<matplotlib.axes._subplots.AxesSubplot at 0x1f9eab8f6a0>"
      ]
     },
     "execution_count": 43,
     "metadata": {},
     "output_type": "execute_result"
    },
    {
     "data": {
      "image/png": "[encoded data removed]",
      "text/plain": [
       "<Figure size 432x288 with 1 Axes>"
      ]
     },
     "metadata": {
      "needs_background": "light"
     },
     "output_type": "display_data"
    }
   ],
   "source": [
    "sns.boxplot(x = \"Pos\", y = \"Height\", data = wnba)"
   ]
  },
  {
   "cell_type": "markdown",
   "metadata": {},
   "source": [
    "The two lines extending upwards and downwards out of the box in the middle look a bit like two whiskers, reason for which we call this plot a box-and-whisker plot, or, more convenient, just box plot."
   ]
  },
  {
   "cell_type": "markdown",
   "metadata": {},
   "source": [
    "In a nutshell, the graph on the right shows the range of the distribution and its three quartiles (the 25th, the 50th and the 75th percentile). This allows us to get a good visual intuition about the proportion of values that fall under a certain quartile, between any two quartiles, or between a quartile and the minimum or the maximum value in the distribution\n",
    "\n",
    "The few dots we see for the box plots of centers and guards/forwards (G/F) represent values in the distribution that are much larger or much lower than the rest of the values. A value that is much lower or much larger than the rest of the values in a distribution is called an outlier."
   ]
  },
  {
   "cell_type": "markdown",
   "metadata": {},
   "source": [
    "A value is an outlier if:\n",
    "\n",
    "* It's larger than the upper quartile by 1.5 times the difference between the upper quartile and the lower quartile (the difference is also called the interquartile range).\n",
    "* It's lower than the lower quartile by 1.5 times the difference between the upper quartile and the lower quartile (the difference is also called the interquartile range)."
   ]
  },
  {
   "cell_type": "code",
   "execution_count": 26,
   "metadata": {},
   "outputs": [
    {
     "data": {
      "text/plain": [
       "count     25.000000\n",
       "mean     194.920000\n",
       "std        4.132392\n",
       "min      185.000000\n",
       "25%      193.000000\n",
       "50%      193.000000\n",
       "75%      196.000000\n",
       "max      206.000000\n",
       "Name: Height, dtype: float64"
      ]
     },
     "execution_count": 26,
     "metadata": {},
     "output_type": "execute_result"
    }
   ],
   "source": [
    "wnba[wnba['Pos'] == 'C']['Height'].describe()"
   ]
  },
  {
   "cell_type": "code",
   "execution_count": 27,
   "metadata": {},
   "outputs": [
    {
     "data": {
      "text/plain": [
       "3"
      ]
     },
     "execution_count": 27,
     "metadata": {},
     "output_type": "execute_result"
    }
   ],
   "source": [
    "interquartile_range = 196-193\n",
    "interquartile_range"
   ]
  },
  {
   "cell_type": "markdown",
   "metadata": {},
   "source": [
    "Every value that is (3x1.5) 4.5  bigger than the upper quartile is considered an outlier. 4.5, and the upper quartile is 196. This means that any value greater than 196+4.5 = 200.5 is considered an outlier."
   ]
  },
  {
   "cell_type": "markdown",
   "metadata": {},
   "source": [
    "Every value that is (3x1.5) 4.5 lesser than the lower quartile is considered an outlier. 4.5, and the lower quartile is 193. This means that any value lesser than 193-4.5 = 188.5 is considered an outlier."
   ]
  },
  {
   "cell_type": "markdown",
   "metadata": {},
   "source": [
    "Maximum and minimum value in boxplot is the distribution that is not an outlier"
   ]
  },
  {
   "cell_type": "markdown",
   "metadata": {},
   "source": [
    "This formal definition of an outlier is arbitrary, and it could be changed if we wanted to. For any given distribution, the upper and lower quartiles, and the interquartile range remain constant. However, the 1.5 factor can vary. If the factor is increased, then the range outside which values are considered outliers increases as well. If the factor is decreased, the range outside which values are considered outlier decreases as well.\n",
    "\n",
    "When we generate boxplots, we can increase or decrease this factor by using the whis parameter of the sns.boxplot() function."
   ]
  },
  {
   "cell_type": "code",
   "execution_count": 33,
   "metadata": {},
   "outputs": [
    {
     "data": {
      "text/plain": [
       "25%    22.0\n",
       "50%    27.0\n",
       "75%    29.0\n",
       "Name: Games Played, dtype: float64"
      ]
     },
     "execution_count": 33,
     "metadata": {},
     "output_type": "execute_result"
    }
   ],
   "source": [
    "# Quartiles of the Games Played variable\n",
    "\n",
    "quartile = wnba['Games Played'].describe().iloc[4:-1]\n",
    "quartile"
   ]
  },
  {
   "cell_type": "code",
   "execution_count": 35,
   "metadata": {},
   "outputs": [
    {
     "data": {
      "text/plain": [
       "7.0"
      ]
     },
     "execution_count": 35,
     "metadata": {},
     "output_type": "execute_result"
    }
   ],
   "source": [
    "# interquartile range\n",
    "\n",
    "iqr = quartile[2] - quartile[0]\n",
    "iqr"
   ]
  },
  {
   "cell_type": "code",
   "execution_count": 47,
   "metadata": {},
   "outputs": [
    {
     "name": "stdout",
     "output_type": "stream",
     "text": [
      "11.5and39.5\n"
     ]
    }
   ],
   "source": [
    "lower_bound = float(quartile[0]-(iqr*1.5))\n",
    "upper_bound = float(quartile[2]+(iqr*1.5))\n",
    "print(lower_bound, upper_bound, sep = \"and\")"
   ]
  },
  {
   "cell_type": "code",
   "execution_count": 41,
   "metadata": {},
   "outputs": [
    {
     "name": "stdout",
     "output_type": "stream",
     "text": [
      "12\n"
     ]
    },
    {
     "data": {
      "text/plain": [
       "0"
      ]
     },
     "execution_count": 41,
     "metadata": {},
     "output_type": "execute_result"
    }
   ],
   "source": [
    "# how many values in the distribution are outliers\n",
    "outlier_low = 0\n",
    "outlier_high = 0\n",
    "for i in wnba['Games Played']:\n",
    "    if i < lower_bound:\n",
    "        outlier_low += 1\n",
    "    elif i > upper_bound:\n",
    "        outlier_high += 1\n",
    "        \n",
    "print(outlier_low)\n",
    "outlier_high"
   ]
  },
  {
   "cell_type": "code",
   "execution_count": 42,
   "metadata": {},
   "outputs": [
    {
     "data": {
      "text/plain": [
       "<matplotlib.axes._subplots.AxesSubplot at 0x1f9eab830b8>"
      ]
     },
     "execution_count": 42,
     "metadata": {},
     "output_type": "execute_result"
    },
    {
     "data": {
      "image/png": "[encoded data removed]",
      "text/plain": [
       "<Figure size 432x288 with 1 Axes>"
      ]
     },
     "metadata": {
      "needs_background": "light"
     },
     "output_type": "display_data"
    }
   ],
   "source": [
    "sns.boxplot(wnba['Games Played'])"
   ]
  },
  {
   "cell_type": "code",
   "execution_count": 49,
   "metadata": {},
   "outputs": [
    {
     "data": {
      "image/png": "[encoded data removed]",
      "text/plain": [
       "<Figure size 432x288 with 1 Axes>"
      ]
     },
     "metadata": {
      "needs_background": "light"
     },
     "output_type": "display_data"
    }
   ],
   "source": [
    "# reproduce above plot using matlplot, while using factor of 2 instead of default 1.5 \n",
    "plt.boxplot(wnba['Games Played'], whis = 2)\n",
    "plt.show()"
   ]
  },
  {
   "cell_type": "markdown",
   "metadata": {},
   "source": [
    "We learned how to compare frequency distributions using graphs. Grouped bar plots are ideal to compare the frequency distributions of nominal or ordinal variables. For variables measured on an interval or ratio scale, we can use step-type histograms, kernel density plots, or, for better readability, strip plots or box plots."
   ]
  },
  {
   "cell_type": "code",
   "execution_count": null,
   "metadata": {},
   "outputs": [],
   "source": []
  }
 ],
 "metadata": {
  "kernelspec": {
   "display_name": "Python 3",
   "language": "python",
   "name": "python3"
  },
  "language_info": {
   "codemirror_mode": {
    "name": "ipython",
    "version": 3
   },
   "file_extension": ".py",
   "mimetype": "text/x-python",
   "name": "python",
   "nbconvert_exporter": "python",
   "pygments_lexer": "ipython3",
   "version": "3.7.1"
  }
 },
 "nbformat": 4,
 "nbformat_minor": 2
}
